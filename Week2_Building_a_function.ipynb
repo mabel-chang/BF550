{
 "cells": [
  {
   "cell_type": "code",
   "execution_count": null,
   "id": "57f2b2cd",
   "metadata": {},
   "outputs": [],
   "source": [
    "from matplotlib import pyplot as plt"
   ]
  },
  {
   "cell_type": "code",
   "execution_count": null,
   "id": "dffb1e2e",
   "metadata": {},
   "outputs": [],
   "source": [
    "#Let's start with a chaos() function\n",
    "def chaos():\n",
    "    print(\"This program illustrates chaotic behavior.\")\n",
    "    x = eval(input(\"Enter a number between 0 and 1: \"))\n",
    "    for i in range(10):\n",
    "        x = 3.9 * x * (1-x)\n",
    "        print(x)"
   ]
  },
  {
   "cell_type": "code",
   "execution_count": null,
   "id": "b7eeadf2",
   "metadata": {},
   "outputs": [],
   "source": [
    "chaos()"
   ]
  },
  {
   "cell_type": "code",
   "execution_count": null,
   "id": "f133e7dc",
   "metadata": {},
   "outputs": [],
   "source": [
    "#Let's look at not_chaos()\n",
    "def not_chaos():\n",
    "    print(\"This program illustrates linear behavior.\")\n",
    "    x = eval(input(\"Enter a number between 0 and 1: \"))\n",
    "    for i in range(10):\n",
    "        x = 3.9 * x \n",
    "        print(x)"
   ]
  },
  {
   "cell_type": "code",
   "execution_count": null,
   "id": "81695294",
   "metadata": {},
   "outputs": [],
   "source": [
    "#Let's make it bit better\n",
    "def chaos():\n",
    "    a=[]\n",
    "    print(\"This program illustrates chaotic behavior.\")\n",
    "    x = eval(input(\"Enter a number between 0 and 1: \"))\n",
    "    for i in range(10):\n",
    "        x = 3.9 * x * (1-x)\n",
    "        print(x)\n",
    "        a.append(x)\n",
    "    return a"
   ]
  },
  {
   "cell_type": "code",
   "execution_count": null,
   "id": "150e44c9",
   "metadata": {},
   "outputs": [],
   "source": [
    "a=chaos()"
   ]
  },
  {
   "cell_type": "code",
   "execution_count": null,
   "id": "1d5ef3c7",
   "metadata": {},
   "outputs": [],
   "source": [
    "plt.plot(a)\n",
    "plt.show()"
   ]
  },
  {
   "cell_type": "code",
   "execution_count": null,
   "id": "504426bd",
   "metadata": {},
   "outputs": [],
   "source": [
    "#Let's look at not_chaos()\n",
    "def not_chaos():\n",
    "    a=[]\n",
    "    print(\"This program illustrates non-chaotic behavior.\")\n",
    "    x = eval(input(\"Enter a number between 0 and 1: \"))\n",
    "    for i in range(10):\n",
    "        x = 3.9 * x \n",
    "        print(x)\n",
    "        a.append(x)\n",
    "    return a"
   ]
  },
  {
   "cell_type": "code",
   "execution_count": null,
   "id": "ce69a883",
   "metadata": {},
   "outputs": [],
   "source": [
    "a=not_chaos()"
   ]
  },
  {
   "cell_type": "code",
   "execution_count": null,
   "id": "2b08c953",
   "metadata": {},
   "outputs": [],
   "source": [
    "plt.plot(a)"
   ]
  },
  {
   "cell_type": "code",
   "execution_count": null,
   "id": "17727eae",
   "metadata": {},
   "outputs": [],
   "source": [
    "b=chaos()"
   ]
  },
  {
   "cell_type": "code",
   "execution_count": null,
   "id": "1c2e6ddb",
   "metadata": {},
   "outputs": [],
   "source": [
    "plt.plot(a)\n",
    "plt.plot(b)\n",
    "plt.show()"
   ]
  },
  {
   "cell_type": "code",
   "execution_count": null,
   "id": "ce410671",
   "metadata": {},
   "outputs": [],
   "source": [
    "#Look closer at input(), let's make a simple print function hello(). What is the difference? \n",
    "\n",
    "def hello():\n",
    "    x = input(\"Enter a name: \")\n",
    "    print(\"Hello\",x)\n"
   ]
  },
  {
   "cell_type": "code",
   "execution_count": null,
   "id": "663a4596",
   "metadata": {},
   "outputs": [],
   "source": [
    "hello()"
   ]
  },
  {
   "cell_type": "code",
   "execution_count": null,
   "id": "0aaba4c2",
   "metadata": {},
   "outputs": [],
   "source": [
    "# input can take expressions\n",
    "def what_is():\n",
    "    x = input(\"Enter an expression: \")\n",
    "    print(\"The results is:\",x)"
   ]
  },
  {
   "cell_type": "code",
   "execution_count": null,
   "id": "bec99363",
   "metadata": {},
   "outputs": [],
   "source": [
    "what_is()"
   ]
  },
  {
   "cell_type": "code",
   "execution_count": null,
   "id": "a1d900e0",
   "metadata": {},
   "outputs": [],
   "source": [
    "def what_is():\n",
    "    x = eval(input(\"Enter an expression: \"))\n",
    "    print(\"The results is:\",x)"
   ]
  },
  {
   "cell_type": "code",
   "execution_count": null,
   "id": "d6e5a2f7",
   "metadata": {},
   "outputs": [],
   "source": [
    "a=5\n",
    "what_is()"
   ]
  },
  {
   "cell_type": "markdown",
   "id": "e15eeaf9",
   "metadata": {},
   "source": [
    "# eval() is dangerous, problem with security"
   ]
  },
  {
   "cell_type": "code",
   "execution_count": null,
   "id": "d7d5eb37",
   "metadata": {},
   "outputs": [],
   "source": [
    "#Let's continue with our function chaos, let's make it better.\n",
    "def chaos():\n",
    "    print(\"This program illustrates chaotic behavior.\")\n",
    "    x = eval(input(\"Enter a number between 0 and 1: \"))\n",
    "    for i in range(10):\n",
    "        x = 3.9 * x * (1-x)\n",
    "        print(x)"
   ]
  },
  {
   "cell_type": "code",
   "execution_count": null,
   "id": "5889b047",
   "metadata": {},
   "outputs": [],
   "source": [
    "chaos()"
   ]
  },
  {
   "cell_type": "code",
   "execution_count": null,
   "id": "153285d2",
   "metadata": {},
   "outputs": [],
   "source": [
    "#Let's continue with our function chaos, let's make it better.\n",
    "#Let's input the length of the sequence too.\n",
    "def chaos():\n",
    "    print(\"This program illustrates chaotic behavior.\")\n",
    "    x = eval(input(\"Enter the initial value, a number betweek 0 and 1: \"))\n",
    "    \n",
    "    for i in range():\n",
    "        x = 3.9 * x * (1-x)\n",
    "        print(x)"
   ]
  },
  {
   "cell_type": "code",
   "execution_count": null,
   "id": "a76d6f68",
   "metadata": {},
   "outputs": [],
   "source": [
    "chaos()"
   ]
  },
  {
   "cell_type": "code",
   "execution_count": null,
   "id": "b7240eca",
   "metadata": {},
   "outputs": [],
   "source": [
    "#How about the parameter?\n",
    "#Let's add the prefactor too.\n",
    "def chaos():\n",
    "    print(\"This program illustrates chaotic behavior.\")\n",
    "    x = eval(input(\"Enter the initial value, a number between 0 and 1: \"))\n",
    "    \n",
    "    for i in range():\n",
    "        x =  x * (1-x)\n",
    "        print(x)"
   ]
  },
  {
   "cell_type": "code",
   "execution_count": null,
   "id": "4c4b14b8",
   "metadata": {},
   "outputs": [],
   "source": [
    "chaos()"
   ]
  },
  {
   "cell_type": "markdown",
   "id": "0a01320b",
   "metadata": {},
   "source": [
    "What we are doing here is working by the proper programming process:\n",
    "\n",
    "    1. Analyze the problem\n",
    "    \n",
    "    2. Determine specifications\n",
    "    \n",
    "    3. Create a design\n",
    "    \n",
    "    4. Implement the design\n",
    "    \n",
    "    5. Test/debug\n",
    "    \n",
    "    6. Maintain"
   ]
  },
  {
   "cell_type": "code",
   "execution_count": null,
   "id": "3bab06e8",
   "metadata": {},
   "outputs": [],
   "source": [
    "#Let's think about the specifications for chaos()\n",
    "#What happens if we enter negative numbers?\n",
    "chaos()"
   ]
  },
  {
   "cell_type": "code",
   "execution_count": null,
   "id": "a1ff2753",
   "metadata": {},
   "outputs": [],
   "source": [
    "#Let's think about the specifications\n",
    "#We can have x>1, or x<0. What shoud we do then?\n",
    "def chaos():\n",
    "    print(\"This program illustrates chaotic behavior.\")\n",
    "    x = eval(input(\"Enter the initial value, a number between 0 and 1: \"))\n",
    "    \n",
    "    for i in range():\n",
    "        x =  x * (1-x)\n",
    "        print(x)"
   ]
  },
  {
   "cell_type": "code",
   "execution_count": null,
   "id": "2b1b0cb9",
   "metadata": {},
   "outputs": [],
   "source": [
    "chaos()"
   ]
  },
  {
   "cell_type": "code",
   "execution_count": null,
   "id": "fe2dea6a",
   "metadata": {},
   "outputs": [],
   "source": [
    "def chaos():\n",
    "    print(\"This program illustrates chaotic behavior.\")\n",
    "    x = eval(input(\"Enter the initial value, a number betweek 0 and 1: \"))\n",
    "    \n",
    "    for i in range():\n",
    "        x = x * (1-x)\n",
    "        print(x)"
   ]
  },
  {
   "cell_type": "code",
   "execution_count": null,
   "id": "344fbe3f",
   "metadata": {},
   "outputs": [],
   "source": [
    "chaos()"
   ]
  }
 ],
 "metadata": {
  "kernelspec": {
   "display_name": "Python 3 (ipykernel)",
   "language": "python",
   "name": "python3"
  },
  "language_info": {
   "codemirror_mode": {
    "name": "ipython",
    "version": 3
   },
   "file_extension": ".py",
   "mimetype": "text/x-python",
   "name": "python",
   "nbconvert_exporter": "python",
   "pygments_lexer": "ipython3",
   "version": "3.9.12"
  }
 },
 "nbformat": 4,
 "nbformat_minor": 5
}
