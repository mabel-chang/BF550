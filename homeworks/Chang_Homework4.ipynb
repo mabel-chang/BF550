{
 "cells": [
  {
   "cell_type": "code",
   "execution_count": 1,
   "id": "d85eded9",
   "metadata": {},
   "outputs": [],
   "source": [
    "import numpy as np\n",
    "np.random.seed(20221110)\n",
    "import matplotlib.pyplot as plt"
   ]
  },
  {
   "cell_type": "code",
   "execution_count": 2,
   "id": "4e5112af",
   "metadata": {},
   "outputs": [],
   "source": [
    "#function that simulate the outcomes in control and treatment arms\n",
    "def generate_outcome(probability, N): \n",
    "    #output a list of outcomes 0=not infected, 1=infected\n",
    "    return np.random.choice([0, 1], size=N, p=[1-probability, probability])"
   ]
  },
  {
   "cell_type": "code",
   "execution_count": 3,
   "id": "e995cdf3",
   "metadata": {},
   "outputs": [
    {
     "name": "stdout",
     "output_type": "stream",
     "text": [
      "[1 1 1 0 0 1 1 1 1 0 0 0 0 1 0 1 1 0 0 1 1 1 1 0 1 0 0 1 1 1 0 1 0 0 0 0 1\n",
      " 1 1 1 1 1 0 1 1 0 0 1 0 0 1 1 0 1 0 0 1 1 1 0 0 0 0 0 1 0 1 0 1 1 0 1 1 0\n",
      " 0 1 0 0 1 0 0 0 1 0 1 1 0 1 1 1 1 0 1 1 0 0 1 1 0 1] [0 0 1 0 0 0 0 0 0 1 0 0 0 0 1 0 0 0 0 0 0 0 0 0 0 0 0 0 1 0 0 0 0 0 0 0 0\n",
      " 0 0 0 0 0 0 0 0 0 0 0 0 0 0 0 0 1 0 0 0 0 0 0 0 0 0 0 0 0 0 0 1 0 0 0 0 0\n",
      " 0 0 0 0 0 0 1 0 1 0 0 0 0 0 0 0 0 0 0 1 0 0 0 0 0 0]\n"
     ]
    }
   ],
   "source": [
    "#Testing generate_outcome\n",
    "prob_control = 0.5 #probability of becoming infected in untreated pigs\n",
    "prob_treated = 0.1 #probability of becoming infected after vaccine (theoretical)\n",
    "\n",
    "N = 100  #sample size\n",
    "\n",
    "#generate the control\n",
    "control_outcome = generate_outcome(prob_control, N)\n",
    "#generate the testing\n",
    "treated_outcome = generate_outcome(prob_treated, N)\n",
    "\n",
    "# Print the result\n",
    "print(control_outcome, treated_outcome)"
   ]
  },
  {
   "cell_type": "code",
   "execution_count": 5,
   "id": "ef6d5e0b",
   "metadata": {},
   "outputs": [],
   "source": [
    "#Function that performs permutation test\n",
    "def permutation_test(treated_outcome, control_outcome):\n",
    "    #calculate the observed difference between the two outcomes\n",
    "    observed_difference = control_outcome.mean() - treated_outcome.mean()\n",
    "\n",
    "    #put Treated and Control together\n",
    "    all_outcome = np.concatenate((treated_outcome, control_outcome))\n",
    "\n",
    "    #Split the group randomly 10000 times\n",
    "    number_of_splits = 10000\n",
    "    #create empty differences array\n",
    "    differences = np.zeros(number_of_splits)\n",
    "    #copy all_outcome array\n",
    "    all_copy = all_outcome\n",
    "\n",
    "    for i in range(number_of_splits):\n",
    "        #shuffle outcomes\n",
    "        np.random.shuffle(all_copy)\n",
    "        #split shuffled outcomes\n",
    "        fake_treated=all_copy[:len(treated_outcome)]\n",
    "        fake_control=all_copy[len(treated_outcome):]\n",
    "\n",
    "        #save differences\n",
    "        differences[i]=fake_treated.mean()-fake_control.mean()\n",
    "\n",
    "    #calculate the p-value\n",
    "    p_value = np.sum(differences >= observed_difference)/differences.size\n",
    "    \n",
    "    return(p_value)"
   ]
  },
  {
   "cell_type": "code",
   "execution_count": 6,
   "id": "808aea08",
   "metadata": {},
   "outputs": [
    {
     "name": "stdout",
     "output_type": "stream",
     "text": [
      "Sample size: 1 p-value:  1.0\n",
      "Sample size: 5 p-value:  0.261726\n"
     ]
    }
   ],
   "source": [
    "#Testing permutation_test\n",
    "#probabilities have already been defined\n",
    "#sample size, generate control, generate testing\n",
    "N = 1 \n",
    "control_outcome = generate_outcome(prob_control, N)\n",
    "treated_outcome = generate_outcome(prob_testing, N)\n",
    "\n",
    "#perform permutation test and print out p-value\n",
    "print(\"Sample size:\", N, \"p-value: \", permutation_test(treated_outcome, control_outcome))\n",
    "\n",
    "#sample size, generate control, generate testing\n",
    "N = 5\n",
    "control_outcome = generate_outcome(prob_control, N)\n",
    "treated_outcome = generate_outcome(prob_testing, N)\n",
    "\n",
    "#perform permutation test and print out p-value\n",
    "print(\"Sample size:\", N, \"p-value: \", permutation_test(treated_outcome, control_outcome))"
   ]
  },
  {
   "cell_type": "code",
   "execution_count": 8,
   "id": "6da5c119",
   "metadata": {},
   "outputs": [
    {
     "name": "stderr",
     "output_type": "stream",
     "text": [
      "C:\\Users\\mchan\\AppData\\Local\\Temp\\ipykernel_30368\\1424031988.py:4: RuntimeWarning: Mean of empty slice.\n",
      "  observed_difference = control_outcome.mean() - treated_outcome.mean()\n",
      "C:\\Users\\mchan\\AppData\\Local\\Temp\\ipykernel_30368\\1424031988.py:24: RuntimeWarning: Mean of empty slice.\n",
      "  differences[i]=fake_treated.mean()-fake_control.mean()\n"
     ]
    },
    {
     "data": {
      "text/plain": [
       "<matplotlib.lines.Line2D at 0x23a4332a3d0>"
      ]
     },
     "execution_count": 8,
     "metadata": {},
     "output_type": "execute_result"
    },
    {
     "data": {
      "image/png": "[encoded data removed]",
      "text/plain": [
       "<Figure size 432x288 with 1 Axes>"
      ]
     },
     "metadata": {
      "needs_background": "light"
     },
     "output_type": "display_data"
    }
   ],
   "source": [
    "#Plot probability of a stat significant diff at a = 0.05 for values of N\n",
    "p_values = []\n",
    "\n",
    "for i in range(0, 50, 5):\n",
    "    #probabilities have already been defined\n",
    "    #sample size, generate control, generate testing\n",
    "    N = i\n",
    "    control_outcome = generate_outcome(prob_control, N)\n",
    "    treated_outcome = generate_outcome(prob_treated, N)\n",
    "    \n",
    "    #perform permutation test and add p_value to the list\n",
    "    p_values.append(permutation_test(treated_outcome, control_outcome))\n",
    "\n",
    "plt.bar(range(0, 50, 5), p_values)\n",
    "\n",
    "#add labels and sig line\n",
    "plt.xlabel('N')\n",
    "plt.ylabel('p-value')\n",
    "plt.axhline(y=0.05, color='red', linestyle='--', label='a = 0.05')"
   ]
  },
  {
   "cell_type": "markdown",
   "id": "a1b86bd3",
   "metadata": {},
   "source": [
    "This plot indicates that the sample size should be at least above 10 as all p-values after N = 10 is less than the significance level of 0.05."
   ]
  },
  {
   "cell_type": "code",
   "execution_count": 20,
   "id": "be4c1ffd",
   "metadata": {},
   "outputs": [],
   "source": [
    "#Putting everything together\n",
    "def find_N(prob_control, prob_treated):\n",
    "    #starting N count\n",
    "    N = 1\n",
    "    \n",
    "    #create number of repeats\n",
    "    #originally 100000 but significanty reduced as the runtime was too long (1hr got through a sample size of N = 1)\n",
    "    repeats = 100\n",
    "    \n",
    "    #initialize counts for percentage\n",
    "    significant = 0\n",
    "    #not_significant = 0\n",
    "    #empty percentage\n",
    "    percent = 0\n",
    "    \n",
    "    #while percentage is less than 90\n",
    "    while(percent < 90):\n",
    "        #iterate through number of repeats\n",
    "        for i in range(repeats):\n",
    "            #generate new outcome\n",
    "            control_output = np.random.choice([0, 1], size=N, p=[1-prob_control, prob_control])\n",
    "            treated_outcome = np.random.choice([0, 1], size=N, p=[1-prob_treated, prob_treated])\n",
    "            \n",
    "            #get the p-value of these outcome\n",
    "            #calculate the observed difference between the two outcomes\n",
    "            observed_difference = control_outcome.mean() - treated_outcome.mean()\n",
    "\n",
    "            #put Treated and Control together\n",
    "            all_outcome = np.concatenate((treated_outcome, control_outcome))\n",
    "\n",
    "            #Split the group randomly 10000 times\n",
    "            number_of_splits = 10000\n",
    "            #create empty differences array\n",
    "            differences = np.zeros(number_of_splits)\n",
    "            #copy all_outcome array\n",
    "            all_copy = all_outcome\n",
    "\n",
    "            for i in range(number_of_splits):\n",
    "                #shuffle outcomes\n",
    "                np.random.shuffle(all_copy)\n",
    "                #split shuffled outcomes\n",
    "                fake_treated=all_copy[:len(treated_outcome)]\n",
    "                fake_control=all_copy[len(treated_outcome):]\n",
    "\n",
    "                #save differences\n",
    "                differences[i]=fake_treated.mean()-fake_control.mean()\n",
    "\n",
    "            #calculate the p-value\n",
    "            p_value = np.sum(differences >= observed_difference)/differences.size\n",
    "            \n",
    "            #check if the result is significant\n",
    "            if (p_value < 0.05):\n",
    "                #add to count\n",
    "                significant = significant+1\n",
    "            elif (p_value >= 0.05):\n",
    "                #add to count\n",
    "                not_significant += 1\n",
    "        \n",
    "        #update the percentage using significance counts\n",
    "        percent = (significant/repeats) *100\n",
    "        #print out line with N and percentage\n",
    "        print(\"Sample size:\", N, \"Percent below 0.05 p-value:\", percent, \"%\")\n",
    "        \n",
    "        #update sample size and significance counts for the next sample size\n",
    "        N = N+1\n",
    "        significant = 0\n",
    "        #not_significant = 0"
   ]
  },
  {
   "cell_type": "code",
   "execution_count": 21,
   "id": "e63b6f0f",
   "metadata": {},
   "outputs": [
    {
     "name": "stdout",
     "output_type": "stream",
     "text": [
      "Sample size: 1 Percent below 0.05 p-value: 92.0 %\n"
     ]
    }
   ],
   "source": [
    "prob_control = 0.5 #probability of becoming infected in untreated pigs\n",
    "prob_treated = 0.1 #probability of becoming infected after vaccine (theoretical)\n",
    "\n",
    "#perform find N\n",
    "find_N(prob_control, prob_treated)"
   ]
  },
  {
   "cell_type": "code",
   "execution_count": 23,
   "id": "10eb5021",
   "metadata": {},
   "outputs": [
    {
     "data": {
      "image/png": "[encoded data removed]",
      "text/plain": [
       "<Figure size 432x288 with 1 Axes>"
      ]
     },
     "metadata": {
      "needs_background": "light"
     },
     "output_type": "display_data"
    }
   ],
   "source": [
    "#Plot to confirm with N = 12\n",
    "#sample size, generate control, generate testing\n",
    "N = 12\n",
    "control_outcome = generate_outcome(prob_control, N)\n",
    "treated_outcome = generate_outcome(prob_testing, N)\n",
    "\n",
    "#calculate the observed difference between the two outcomes\n",
    "observed_difference = control_outcome.mean() - treated_outcome.mean()\n",
    "\n",
    "#put Treated and Control together\n",
    "all_outcome = np.concatenate((treated_outcome, control_outcome))\n",
    "\n",
    "#Split the group randomly 100000 times\n",
    "number_of_splits = 1000000\n",
    "#create empty differences array\n",
    "differences = np.zeros(number_of_splits)\n",
    "#copy all_outcome array\n",
    "all_copy = all_outcome\n",
    "\n",
    "for i in range(number_of_splits):\n",
    "    #shuffle outcomes\n",
    "    np.random.shuffle(all_copy)\n",
    "    #split shuffled outcomes\n",
    "    fake_treated=all_copy[:len(treated_outcome)]\n",
    "    fake_control=all_copy[len(treated_outcome):]\n",
    "\n",
    "    #save differences\n",
    "    differences[i]=fake_treated.mean()-fake_control.mean()\n",
    "    \n",
    "#create plot for N=12\n",
    "fig=plt.hist(differences,bins=100,align='left')\n",
    "plt.xlabel('differences')\n",
    "plt.ylabel('PDF')\n",
    "#compared to observed differences\n",
    "plt.axvline(x=observed_difference, color='red');"
   ]
  }
 ],
 "metadata": {
  "kernelspec": {
   "display_name": "Python 3 (ipykernel)",
   "language": "python",
   "name": "python3"
  },
  "language_info": {
   "codemirror_mode": {
    "name": "ipython",
    "version": 3
   },
   "file_extension": ".py",
   "mimetype": "text/x-python",
   "name": "python",
   "nbconvert_exporter": "python",
   "pygments_lexer": "ipython3",
   "version": "3.9.12"
  }
 },
 "nbformat": 4,
 "nbformat_minor": 5
}
