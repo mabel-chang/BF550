{
 "cells": [
  {
   "cell_type": "markdown",
   "id": "6c2ba23c",
   "metadata": {},
   "source": [
    "*Homework 1\n",
    "Mabel Chang*"
   ]
  },
  {
   "cell_type": "markdown",
   "id": "15133efd",
   "metadata": {},
   "source": [
    "Problem 1"
   ]
  },
  {
   "cell_type": "code",
   "execution_count": 13,
   "id": "fcbc80fe",
   "metadata": {},
   "outputs": [],
   "source": [
    "def dna_bp(dna_in, direction='same'):\n",
    "    #make dna input into all uppercase\n",
    "    dna_in.upper()\n",
    "    #initiate new dna output sequence\n",
    "    dna_out = \"\"\n",
    "    \n",
    "    #check the direction argument\n",
    "    if (direction == 'same'):\n",
    "        #iterate through dna sequence\n",
    "        for i in dna_in:\n",
    "            #add correct character to output from right to left\n",
    "            if (i == 'G'):\n",
    "                dna_out += 'C'\n",
    "            if (i == 'A'):\n",
    "                dna_out += 'T'\n",
    "            if (i == 'T'):\n",
    "                dna_out += 'A'\n",
    "            if (i == 'C'):\n",
    "                dna_out += 'G'\n",
    "        #return the output dna sequence\n",
    "    \n",
    "    #if the user inputs reverse\n",
    "    elif (direction == 'reverse'):\n",
    "        #iterate through dna sequence\n",
    "        for i in dna_in:\n",
    "            #add correct character to output from left to right\n",
    "            if (i == 'G'):\n",
    "                dna_out = 'C'+ dna_out\n",
    "            if (i == 'A'):\n",
    "                dna_out = 'T'+ dna_out\n",
    "            if (i == 'T'):\n",
    "                dna_out = 'A'+ dna_out\n",
    "            if (i == 'C'):\n",
    "                dna_out = 'G'+ dna_out\n",
    "        #return the output dna sequence\n",
    "    \n",
    "    #return the output\n",
    "    return dna_out"
   ]
  },
  {
   "cell_type": "code",
   "execution_count": 14,
   "id": "91705975",
   "metadata": {},
   "outputs": [
    {
     "name": "stdout",
     "output_type": "stream",
     "text": [
      "CTAATGT\n",
      "TGTAATC\n"
     ]
    }
   ],
   "source": [
    "#testing function\n",
    "print(dna_bp('GATTACA'))\n",
    "    #expect CTAATGT\n",
    "\n",
    "#testing function in reverse\n",
    "print(dna_bp('GATTACA', 'reverse'))\n",
    "    #expect TGTAATC"
   ]
  },
  {
   "cell_type": "markdown",
   "id": "a26e34b8",
   "metadata": {},
   "source": [
    "Problem 2"
   ]
  },
  {
   "cell_type": "code",
   "execution_count": 15,
   "id": "1f537eb7",
   "metadata": {},
   "outputs": [
    {
     "name": "stdout",
     "output_type": "stream",
     "text": [
      "Please input a number more than 1:5\n",
      "5 is a prime number\n"
     ]
    }
   ],
   "source": [
    "def prime_or_not(y):\n",
    "    #convert str x into int\n",
    "    x = int(y)\n",
    "    #check that the input is not less than or equal to 1\n",
    "    if (x <= 1):\n",
    "        return False\n",
    "    #for every number between 2 and the input\n",
    "    for i in range(2, x):\n",
    "        #check that the input is not divisible by any number within this range\n",
    "        if ((x % i) == 0):\n",
    "            #if the input is divisible by any number in this range, then it cannot be a prime\n",
    "            return False\n",
    "        \n",
    "    return True\n",
    "\n",
    "output = input('Please input a number more than 1:')\n",
    "if (prime_or_not(output) == True):\n",
    "    print(output, 'is a prime number')\n",
    "elif (prime_or_not(output) == False):\n",
    "    print(output, 'is not a prime number')"
   ]
  },
  {
   "cell_type": "code",
   "execution_count": 16,
   "id": "d2c0c1b3",
   "metadata": {},
   "outputs": [
    {
     "name": "stdout",
     "output_type": "stream",
     "text": [
      "True\n",
      "False\n"
     ]
    }
   ],
   "source": [
    "#testing function\n",
    "print(prime_or_not(71))\n",
    "    #expect True\n",
    "\n",
    "#testing function\n",
    "print(prime_or_not(8))\n",
    "    #expect False"
   ]
  },
  {
   "cell_type": "raw",
   "id": "bfc55ba0",
   "metadata": {},
   "source": [
    "Problem 3"
   ]
  },
  {
   "cell_type": "code",
   "execution_count": 17,
   "id": "20b29823",
   "metadata": {},
   "outputs": [],
   "source": [
    "def sqrt(y, tol=1e-6):\n",
    "    #check that the input is valid (not negative and if zero return 0)\n",
    "    if(y < 0):\n",
    "        return (\"Error: please input a positive value\")\n",
    "    elif(y == 0):\n",
    "        return 0\n",
    "    \n",
    "    #initial guess that x is half of y\n",
    "    x = y/2\n",
    "    \n",
    "    #check that the error between the guess^2 and the input is less than the error\n",
    "        #the error equation used is = (estimated number - actual number)/actual number\n",
    "    while abs(((x*x) - y)/y) > tol:\n",
    "        #heron's algorithm to update the guess\n",
    "        x = 0.5*(x+(y/x))\n",
    "        \n",
    "    #return the guess that has a percent error less than the tol\n",
    "    return x\n",
    "\n",
    "def get_in():\n",
    "    #define what number to find the sqrt\n",
    "    output = input('Please input a positive number:')\n",
    "    #print the sqrt of the input\n",
    "    print(sqrt(int(output)), 'is the square root of', output)"
   ]
  },
  {
   "cell_type": "code",
   "execution_count": 18,
   "id": "dc9b4995",
   "metadata": {},
   "outputs": [
    {
     "name": "stdout",
     "output_type": "stream",
     "text": [
      "Please input a positive number:5\n",
      "2.2360679779158037 is the square root of 5\n"
     ]
    }
   ],
   "source": [
    "get_in()"
   ]
  },
  {
   "cell_type": "code",
   "execution_count": 19,
   "id": "b0ca427d",
   "metadata": {},
   "outputs": [
    {
     "name": "stdout",
     "output_type": "stream",
     "text": [
      "5.000000000016778\n",
      "Error: please input a positive value\n",
      "0\n",
      "21.400934560657916\n"
     ]
    }
   ],
   "source": [
    "#testing function\n",
    "print(sqrt(25))\n",
    "    #expect very close to 5.0\n",
    "print(sqrt(-10))\n",
    "    #expect an error output\n",
    "print(sqrt(0))\n",
    "    #expect 0\n",
    "print(sqrt(458))"
   ]
  }
 ],
 "metadata": {
  "kernelspec": {
   "display_name": "Python 3 (ipykernel)",
   "language": "python",
   "name": "python3"
  },
  "language_info": {
   "codemirror_mode": {
    "name": "ipython",
    "version": 3
   },
   "file_extension": ".py",
   "mimetype": "text/x-python",
   "name": "python",
   "nbconvert_exporter": "python",
   "pygments_lexer": "ipython3",
   "version": "3.9.12"
  }
 },
 "nbformat": 4,
 "nbformat_minor": 5
}
